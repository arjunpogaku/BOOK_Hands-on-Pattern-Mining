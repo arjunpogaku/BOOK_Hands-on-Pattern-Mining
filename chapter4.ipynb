{
  "cells": [
    {
      "cell_type": "markdown",
      "metadata": {
        "id": "view-in-github",
        "colab_type": "text"
      },
      "source": [
        "<a href=\"https://colab.research.google.com/github/arjunpogaku/BOOK_Hands-on-Pattern-Mining/blob/main/chapter4.ipynb\" target=\"_parent\"><img src=\"https://colab.research.google.com/assets/colab-badge.svg\" alt=\"Open In Colab\"/></a>"
      ]
    },
    {
      "cell_type": "markdown",
      "source": [
        "# Chapter 4: Pattern Discovery in Transactional Databases"
      ],
      "metadata": {
        "id": "14HciOZCFrYm"
      },
      "id": "14HciOZCFrYm"
    },
    {
      "cell_type": "markdown",
      "source": [
        "## Install PAMI repository"
      ],
      "metadata": {
        "id": "OXAsDHIFFwxx"
      },
      "id": "OXAsDHIFFwxx"
    },
    {
      "cell_type": "code",
      "execution_count": 1,
      "id": "initial_id",
      "metadata": {
        "collapsed": true,
        "colab": {
          "base_uri": "https://localhost:8080/"
        },
        "id": "initial_id",
        "outputId": "550ba987-460d-4d63-aeec-0519ae5a0459"
      },
      "outputs": [
        {
          "output_type": "stream",
          "name": "stdout",
          "text": [
            "Collecting pami\n",
            "  Downloading pami-2024.12.6.1-py3-none-any.whl.metadata (80 kB)\n",
            "\u001b[?25l     \u001b[90m━━━━━━━━━━━━━━━━━━━━━━━━━━━━━━━━━━━━━━━━\u001b[0m \u001b[32m0.0/80.3 kB\u001b[0m \u001b[31m?\u001b[0m eta \u001b[36m-:--:--\u001b[0m\r\u001b[2K     \u001b[90m━━━━━━━━━━━━━━━━━━━━━━━━━━━━━━━━━━━━━━━━\u001b[0m \u001b[32m80.3/80.3 kB\u001b[0m \u001b[31m2.2 MB/s\u001b[0m eta \u001b[36m0:00:00\u001b[0m\n",
            "\u001b[?25hRequirement already satisfied: psutil in /usr/local/lib/python3.10/dist-packages (from pami) (5.9.5)\n",
            "Requirement already satisfied: pandas in /usr/local/lib/python3.10/dist-packages (from pami) (2.2.2)\n",
            "Requirement already satisfied: plotly in /usr/local/lib/python3.10/dist-packages (from pami) (5.24.1)\n",
            "Requirement already satisfied: matplotlib in /usr/local/lib/python3.10/dist-packages (from pami) (3.8.0)\n",
            "Collecting resource (from pami)\n",
            "  Downloading Resource-0.2.1-py2.py3-none-any.whl.metadata (478 bytes)\n",
            "Collecting validators (from pami)\n",
            "  Downloading validators-0.34.0-py3-none-any.whl.metadata (3.8 kB)\n",
            "Requirement already satisfied: urllib3 in /usr/local/lib/python3.10/dist-packages (from pami) (2.2.3)\n",
            "Requirement already satisfied: Pillow in /usr/local/lib/python3.10/dist-packages (from pami) (11.0.0)\n",
            "Requirement already satisfied: numpy in /usr/local/lib/python3.10/dist-packages (from pami) (1.26.4)\n",
            "Collecting sphinx (from pami)\n",
            "  Downloading sphinx-8.1.3-py3-none-any.whl.metadata (6.4 kB)\n",
            "Collecting sphinx-rtd-theme (from pami)\n",
            "  Downloading sphinx_rtd_theme-3.0.2-py2.py3-none-any.whl.metadata (4.4 kB)\n",
            "Collecting discord.py (from pami)\n",
            "  Downloading discord.py-2.4.0-py3-none-any.whl.metadata (6.9 kB)\n",
            "Requirement already satisfied: networkx in /usr/local/lib/python3.10/dist-packages (from pami) (3.4.2)\n",
            "Collecting deprecated (from pami)\n",
            "  Downloading Deprecated-1.2.15-py2.py3-none-any.whl.metadata (5.5 kB)\n",
            "Collecting fastparquet (from pami)\n",
            "  Downloading fastparquet-2024.11.0-cp310-cp310-manylinux_2_17_x86_64.manylinux2014_x86_64.whl.metadata (4.2 kB)\n",
            "Requirement already satisfied: wrapt<2,>=1.10 in /usr/local/lib/python3.10/dist-packages (from deprecated->pami) (1.14.1)\n",
            "Collecting aiohttp<4,>=3.7.4 (from discord.py->pami)\n",
            "  Downloading aiohttp-3.11.10-cp310-cp310-manylinux_2_17_x86_64.manylinux2014_x86_64.whl.metadata (7.7 kB)\n",
            "Collecting cramjam>=2.3 (from fastparquet->pami)\n",
            "  Downloading cramjam-2.9.0-cp310-cp310-manylinux_2_17_x86_64.manylinux2014_x86_64.whl.metadata (4.9 kB)\n",
            "Requirement already satisfied: fsspec in /usr/local/lib/python3.10/dist-packages (from fastparquet->pami) (2024.10.0)\n",
            "Requirement already satisfied: packaging in /usr/local/lib/python3.10/dist-packages (from fastparquet->pami) (24.2)\n",
            "Requirement already satisfied: python-dateutil>=2.8.2 in /usr/local/lib/python3.10/dist-packages (from pandas->pami) (2.9.0.post0)\n",
            "Requirement already satisfied: pytz>=2020.1 in /usr/local/lib/python3.10/dist-packages (from pandas->pami) (2024.2)\n",
            "Requirement already satisfied: tzdata>=2022.7 in /usr/local/lib/python3.10/dist-packages (from pandas->pami) (2024.2)\n",
            "Requirement already satisfied: contourpy>=1.0.1 in /usr/local/lib/python3.10/dist-packages (from matplotlib->pami) (1.3.1)\n",
            "Requirement already satisfied: cycler>=0.10 in /usr/local/lib/python3.10/dist-packages (from matplotlib->pami) (0.12.1)\n",
            "Requirement already satisfied: fonttools>=4.22.0 in /usr/local/lib/python3.10/dist-packages (from matplotlib->pami) (4.55.1)\n",
            "Requirement already satisfied: kiwisolver>=1.0.1 in /usr/local/lib/python3.10/dist-packages (from matplotlib->pami) (1.4.7)\n",
            "Requirement already satisfied: pyparsing>=2.3.1 in /usr/local/lib/python3.10/dist-packages (from matplotlib->pami) (3.2.0)\n",
            "Requirement already satisfied: tenacity>=6.2.0 in /usr/local/lib/python3.10/dist-packages (from plotly->pami) (9.0.0)\n",
            "Collecting JsonForm>=0.0.2 (from resource->pami)\n",
            "  Downloading JsonForm-0.0.2.tar.gz (2.4 kB)\n",
            "  Preparing metadata (setup.py) ... \u001b[?25l\u001b[?25hdone\n",
            "Collecting JsonSir>=0.0.2 (from resource->pami)\n",
            "  Downloading JsonSir-0.0.2.tar.gz (2.2 kB)\n",
            "  Preparing metadata (setup.py) ... \u001b[?25l\u001b[?25hdone\n",
            "Collecting python-easyconfig>=0.1.0 (from resource->pami)\n",
            "  Downloading Python_EasyConfig-0.1.7-py2.py3-none-any.whl.metadata (462 bytes)\n",
            "Collecting sphinxcontrib-applehelp>=1.0.7 (from sphinx->pami)\n",
            "  Downloading sphinxcontrib_applehelp-2.0.0-py3-none-any.whl.metadata (2.3 kB)\n",
            "Collecting sphinxcontrib-devhelp>=1.0.6 (from sphinx->pami)\n",
            "  Downloading sphinxcontrib_devhelp-2.0.0-py3-none-any.whl.metadata (2.3 kB)\n",
            "Collecting sphinxcontrib-htmlhelp>=2.0.6 (from sphinx->pami)\n",
            "  Downloading sphinxcontrib_htmlhelp-2.1.0-py3-none-any.whl.metadata (2.3 kB)\n",
            "Collecting sphinxcontrib-jsmath>=1.0.1 (from sphinx->pami)\n",
            "  Downloading sphinxcontrib_jsmath-1.0.1-py2.py3-none-any.whl.metadata (1.4 kB)\n",
            "Collecting sphinxcontrib-qthelp>=1.0.6 (from sphinx->pami)\n",
            "  Downloading sphinxcontrib_qthelp-2.0.0-py3-none-any.whl.metadata (2.3 kB)\n",
            "Collecting sphinxcontrib-serializinghtml>=1.1.9 (from sphinx->pami)\n",
            "  Downloading sphinxcontrib_serializinghtml-2.0.0-py3-none-any.whl.metadata (2.4 kB)\n",
            "Requirement already satisfied: Jinja2>=3.1 in /usr/local/lib/python3.10/dist-packages (from sphinx->pami) (3.1.4)\n",
            "Requirement already satisfied: Pygments>=2.17 in /usr/local/lib/python3.10/dist-packages (from sphinx->pami) (2.18.0)\n",
            "Collecting docutils<0.22,>=0.20 (from sphinx->pami)\n",
            "  Downloading docutils-0.21.2-py3-none-any.whl.metadata (2.8 kB)\n",
            "Collecting snowballstemmer>=2.2 (from sphinx->pami)\n",
            "  Downloading snowballstemmer-2.2.0-py2.py3-none-any.whl.metadata (6.5 kB)\n",
            "Collecting babel>=2.13 (from sphinx->pami)\n",
            "  Downloading babel-2.16.0-py3-none-any.whl.metadata (1.5 kB)\n",
            "Collecting alabaster>=0.7.14 (from sphinx->pami)\n",
            "  Downloading alabaster-1.0.0-py3-none-any.whl.metadata (2.8 kB)\n",
            "Collecting imagesize>=1.3 (from sphinx->pami)\n",
            "  Downloading imagesize-1.4.1-py2.py3-none-any.whl.metadata (1.5 kB)\n",
            "Requirement already satisfied: requests>=2.30.0 in /usr/local/lib/python3.10/dist-packages (from sphinx->pami) (2.32.3)\n",
            "Requirement already satisfied: tomli>=2 in /usr/local/lib/python3.10/dist-packages (from sphinx->pami) (2.2.1)\n",
            "Collecting sphinxcontrib-jquery<5,>=4 (from sphinx-rtd-theme->pami)\n",
            "  Downloading sphinxcontrib_jquery-4.1-py2.py3-none-any.whl.metadata (2.6 kB)\n",
            "Collecting aiohappyeyeballs>=2.3.0 (from aiohttp<4,>=3.7.4->discord.py->pami)\n",
            "  Downloading aiohappyeyeballs-2.4.4-py3-none-any.whl.metadata (6.1 kB)\n",
            "Collecting aiosignal>=1.1.2 (from aiohttp<4,>=3.7.4->discord.py->pami)\n",
            "  Downloading aiosignal-1.3.1-py3-none-any.whl.metadata (4.0 kB)\n",
            "Collecting async-timeout<6.0,>=4.0 (from aiohttp<4,>=3.7.4->discord.py->pami)\n",
            "  Downloading async_timeout-5.0.1-py3-none-any.whl.metadata (5.1 kB)\n",
            "Requirement already satisfied: attrs>=17.3.0 in /usr/local/lib/python3.10/dist-packages (from aiohttp<4,>=3.7.4->discord.py->pami) (24.2.0)\n",
            "Collecting frozenlist>=1.1.1 (from aiohttp<4,>=3.7.4->discord.py->pami)\n",
            "  Downloading frozenlist-1.5.0-cp310-cp310-manylinux_2_5_x86_64.manylinux1_x86_64.manylinux_2_17_x86_64.manylinux2014_x86_64.whl.metadata (13 kB)\n",
            "Collecting multidict<7.0,>=4.5 (from aiohttp<4,>=3.7.4->discord.py->pami)\n",
            "  Downloading multidict-6.1.0-cp310-cp310-manylinux_2_17_x86_64.manylinux2014_x86_64.whl.metadata (5.0 kB)\n",
            "Collecting propcache>=0.2.0 (from aiohttp<4,>=3.7.4->discord.py->pami)\n",
            "  Downloading propcache-0.2.1-cp310-cp310-manylinux_2_17_x86_64.manylinux2014_x86_64.whl.metadata (9.2 kB)\n",
            "Collecting yarl<2.0,>=1.17.0 (from aiohttp<4,>=3.7.4->discord.py->pami)\n",
            "  Downloading yarl-1.18.3-cp310-cp310-manylinux_2_17_x86_64.manylinux2014_x86_64.whl.metadata (69 kB)\n",
            "\u001b[2K     \u001b[90m━━━━━━━━━━━━━━━━━━━━━━━━━━━━━━━━━━━━━━━━\u001b[0m \u001b[32m69.2/69.2 kB\u001b[0m \u001b[31m4.4 MB/s\u001b[0m eta \u001b[36m0:00:00\u001b[0m\n",
            "\u001b[?25hRequirement already satisfied: MarkupSafe>=2.0 in /usr/local/lib/python3.10/dist-packages (from Jinja2>=3.1->sphinx->pami) (3.0.2)\n",
            "Requirement already satisfied: jsonschema in /usr/local/lib/python3.10/dist-packages (from JsonForm>=0.0.2->resource->pami) (4.23.0)\n",
            "Requirement already satisfied: six>=1.5 in /usr/local/lib/python3.10/dist-packages (from python-dateutil>=2.8.2->pandas->pami) (1.16.0)\n",
            "Requirement already satisfied: PyYAML in /usr/local/lib/python3.10/dist-packages (from python-easyconfig>=0.1.0->resource->pami) (6.0.2)\n",
            "Requirement already satisfied: charset-normalizer<4,>=2 in /usr/local/lib/python3.10/dist-packages (from requests>=2.30.0->sphinx->pami) (3.4.0)\n",
            "Requirement already satisfied: idna<4,>=2.5 in /usr/local/lib/python3.10/dist-packages (from requests>=2.30.0->sphinx->pami) (3.10)\n",
            "Requirement already satisfied: certifi>=2017.4.17 in /usr/local/lib/python3.10/dist-packages (from requests>=2.30.0->sphinx->pami) (2024.8.30)\n",
            "Requirement already satisfied: typing-extensions>=4.1.0 in /usr/local/lib/python3.10/dist-packages (from multidict<7.0,>=4.5->aiohttp<4,>=3.7.4->discord.py->pami) (4.12.2)\n",
            "Requirement already satisfied: jsonschema-specifications>=2023.03.6 in /usr/local/lib/python3.10/dist-packages (from jsonschema->JsonForm>=0.0.2->resource->pami) (2024.10.1)\n",
            "Requirement already satisfied: referencing>=0.28.4 in /usr/local/lib/python3.10/dist-packages (from jsonschema->JsonForm>=0.0.2->resource->pami) (0.35.1)\n",
            "Requirement already satisfied: rpds-py>=0.7.1 in /usr/local/lib/python3.10/dist-packages (from jsonschema->JsonForm>=0.0.2->resource->pami) (0.22.3)\n",
            "Downloading pami-2024.12.6.1-py3-none-any.whl (1.2 MB)\n",
            "\u001b[2K   \u001b[90m━━━━━━━━━━━━━━━━━━━━━━━━━━━━━━━━━━━━━━━━\u001b[0m \u001b[32m1.2/1.2 MB\u001b[0m \u001b[31m23.0 MB/s\u001b[0m eta \u001b[36m0:00:00\u001b[0m\n",
            "\u001b[?25hDownloading Deprecated-1.2.15-py2.py3-none-any.whl (9.9 kB)\n",
            "Downloading discord.py-2.4.0-py3-none-any.whl (1.1 MB)\n",
            "\u001b[2K   \u001b[90m━━━━━━━━━━━━━━━━━━━━━━━━━━━━━━━━━━━━━━━━\u001b[0m \u001b[32m1.1/1.1 MB\u001b[0m \u001b[31m51.6 MB/s\u001b[0m eta \u001b[36m0:00:00\u001b[0m\n",
            "\u001b[?25hDownloading fastparquet-2024.11.0-cp310-cp310-manylinux_2_17_x86_64.manylinux2014_x86_64.whl (1.7 MB)\n",
            "\u001b[2K   \u001b[90m━━━━━━━━━━━━━━━━━━━━━━━━━━━━━━━━━━━━━━━━\u001b[0m \u001b[32m1.7/1.7 MB\u001b[0m \u001b[31m69.1 MB/s\u001b[0m eta \u001b[36m0:00:00\u001b[0m\n",
            "\u001b[?25hDownloading Resource-0.2.1-py2.py3-none-any.whl (25 kB)\n",
            "Downloading sphinx-8.1.3-py3-none-any.whl (3.5 MB)\n",
            "\u001b[2K   \u001b[90m━━━━━━━━━━━━━━━━━━━━━━━━━━━━━━━━━━━━━━━━\u001b[0m \u001b[32m3.5/3.5 MB\u001b[0m \u001b[31m90.2 MB/s\u001b[0m eta \u001b[36m0:00:00\u001b[0m\n",
            "\u001b[?25hDownloading sphinx_rtd_theme-3.0.2-py2.py3-none-any.whl (7.7 MB)\n",
            "\u001b[2K   \u001b[90m━━━━━━━━━━━━━━━━━━━━━━━━━━━━━━━━━━━━━━━━\u001b[0m \u001b[32m7.7/7.7 MB\u001b[0m \u001b[31m83.1 MB/s\u001b[0m eta \u001b[36m0:00:00\u001b[0m\n",
            "\u001b[?25hDownloading validators-0.34.0-py3-none-any.whl (43 kB)\n",
            "\u001b[2K   \u001b[90m━━━━━━━━━━━━━━━━━━━━━━━━━━━━━━━━━━━━━━━━\u001b[0m \u001b[32m43.5/43.5 kB\u001b[0m \u001b[31m3.0 MB/s\u001b[0m eta \u001b[36m0:00:00\u001b[0m\n",
            "\u001b[?25hDownloading aiohttp-3.11.10-cp310-cp310-manylinux_2_17_x86_64.manylinux2014_x86_64.whl (1.6 MB)\n",
            "\u001b[2K   \u001b[90m━━━━━━━━━━━━━━━━━━━━━━━━━━━━━━━━━━━━━━━━\u001b[0m \u001b[32m1.6/1.6 MB\u001b[0m \u001b[31m68.8 MB/s\u001b[0m eta \u001b[36m0:00:00\u001b[0m\n",
            "\u001b[?25hDownloading alabaster-1.0.0-py3-none-any.whl (13 kB)\n",
            "Downloading babel-2.16.0-py3-none-any.whl (9.6 MB)\n",
            "\u001b[2K   \u001b[90m━━━━━━━━━━━━━━━━━━━━━━━━━━━━━━━━━━━━━━━━\u001b[0m \u001b[32m9.6/9.6 MB\u001b[0m \u001b[31m116.2 MB/s\u001b[0m eta \u001b[36m0:00:00\u001b[0m\n",
            "\u001b[?25hDownloading cramjam-2.9.0-cp310-cp310-manylinux_2_17_x86_64.manylinux2014_x86_64.whl (2.4 MB)\n",
            "\u001b[2K   \u001b[90m━━━━━━━━━━━━━━━━━━━━━━━━━━━━━━━━━━━━━━━━\u001b[0m \u001b[32m2.4/2.4 MB\u001b[0m \u001b[31m80.0 MB/s\u001b[0m eta \u001b[36m0:00:00\u001b[0m\n",
            "\u001b[?25hDownloading docutils-0.21.2-py3-none-any.whl (587 kB)\n",
            "\u001b[2K   \u001b[90m━━━━━━━━━━━━━━━━━━━━━━━━━━━━━━━━━━━━━━━━\u001b[0m \u001b[32m587.4/587.4 kB\u001b[0m \u001b[31m36.3 MB/s\u001b[0m eta \u001b[36m0:00:00\u001b[0m\n",
            "\u001b[?25hDownloading imagesize-1.4.1-py2.py3-none-any.whl (8.8 kB)\n",
            "Downloading Python_EasyConfig-0.1.7-py2.py3-none-any.whl (5.4 kB)\n",
            "Downloading snowballstemmer-2.2.0-py2.py3-none-any.whl (93 kB)\n",
            "\u001b[2K   \u001b[90m━━━━━━━━━━━━━━━━━━━━━━━━━━━━━━━━━━━━━━━━\u001b[0m \u001b[32m93.0/93.0 kB\u001b[0m \u001b[31m6.5 MB/s\u001b[0m eta \u001b[36m0:00:00\u001b[0m\n",
            "\u001b[?25hDownloading sphinxcontrib_applehelp-2.0.0-py3-none-any.whl (119 kB)\n",
            "\u001b[2K   \u001b[90m━━━━━━━━━━━━━━━━━━━━━━━━━━━━━━━━━━━━━━━━\u001b[0m \u001b[32m119.3/119.3 kB\u001b[0m \u001b[31m8.7 MB/s\u001b[0m eta \u001b[36m0:00:00\u001b[0m\n",
            "\u001b[?25hDownloading sphinxcontrib_devhelp-2.0.0-py3-none-any.whl (82 kB)\n",
            "\u001b[2K   \u001b[90m━━━━━━━━━━━━━━━━━━━━━━━━━━━━━━━━━━━━━━━━\u001b[0m \u001b[32m82.5/82.5 kB\u001b[0m \u001b[31m5.8 MB/s\u001b[0m eta \u001b[36m0:00:00\u001b[0m\n",
            "\u001b[?25hDownloading sphinxcontrib_htmlhelp-2.1.0-py3-none-any.whl (98 kB)\n",
            "\u001b[2K   \u001b[90m━━━━━━━━━━━━━━━━━━━━━━━━━━━━━━━━━━━━━━━━\u001b[0m \u001b[32m98.7/98.7 kB\u001b[0m \u001b[31m6.7 MB/s\u001b[0m eta \u001b[36m0:00:00\u001b[0m\n",
            "\u001b[?25hDownloading sphinxcontrib_jquery-4.1-py2.py3-none-any.whl (121 kB)\n",
            "\u001b[2K   \u001b[90m━━━━━━━━━━━━━━━━━━━━━━━━━━━━━━━━━━━━━━━━\u001b[0m \u001b[32m121.1/121.1 kB\u001b[0m \u001b[31m10.4 MB/s\u001b[0m eta \u001b[36m0:00:00\u001b[0m\n",
            "\u001b[?25hDownloading sphinxcontrib_jsmath-1.0.1-py2.py3-none-any.whl (5.1 kB)\n",
            "Downloading sphinxcontrib_qthelp-2.0.0-py3-none-any.whl (88 kB)\n",
            "\u001b[2K   \u001b[90m━━━━━━━━━━━━━━━━━━━━━━━━━━━━━━━━━━━━━━━━\u001b[0m \u001b[32m88.7/88.7 kB\u001b[0m \u001b[31m5.2 MB/s\u001b[0m eta \u001b[36m0:00:00\u001b[0m\n",
            "\u001b[?25hDownloading sphinxcontrib_serializinghtml-2.0.0-py3-none-any.whl (92 kB)\n",
            "\u001b[2K   \u001b[90m━━━━━━━━━━━━━━━━━━━━━━━━━━━━━━━━━━━━━━━━\u001b[0m \u001b[32m92.1/92.1 kB\u001b[0m \u001b[31m7.2 MB/s\u001b[0m eta \u001b[36m0:00:00\u001b[0m\n",
            "\u001b[?25hDownloading aiohappyeyeballs-2.4.4-py3-none-any.whl (14 kB)\n",
            "Downloading aiosignal-1.3.1-py3-none-any.whl (7.6 kB)\n",
            "Downloading async_timeout-5.0.1-py3-none-any.whl (6.2 kB)\n",
            "Downloading frozenlist-1.5.0-cp310-cp310-manylinux_2_5_x86_64.manylinux1_x86_64.manylinux_2_17_x86_64.manylinux2014_x86_64.whl (241 kB)\n",
            "\u001b[2K   \u001b[90m━━━━━━━━━━━━━━━━━━━━━━━━━━━━━━━━━━━━━━━━\u001b[0m \u001b[32m241.9/241.9 kB\u001b[0m \u001b[31m16.1 MB/s\u001b[0m eta \u001b[36m0:00:00\u001b[0m\n",
            "\u001b[?25hDownloading multidict-6.1.0-cp310-cp310-manylinux_2_17_x86_64.manylinux2014_x86_64.whl (124 kB)\n",
            "\u001b[2K   \u001b[90m━━━━━━━━━━━━━━━━━━━━━━━━━━━━━━━━━━━━━━━━\u001b[0m \u001b[32m124.6/124.6 kB\u001b[0m \u001b[31m8.4 MB/s\u001b[0m eta \u001b[36m0:00:00\u001b[0m\n",
            "\u001b[?25hDownloading propcache-0.2.1-cp310-cp310-manylinux_2_17_x86_64.manylinux2014_x86_64.whl (205 kB)\n",
            "\u001b[2K   \u001b[90m━━━━━━━━━━━━━━━━━━━━━━━━━━━━━━━━━━━━━━━━\u001b[0m \u001b[32m205.1/205.1 kB\u001b[0m \u001b[31m14.9 MB/s\u001b[0m eta \u001b[36m0:00:00\u001b[0m\n",
            "\u001b[?25hDownloading yarl-1.18.3-cp310-cp310-manylinux_2_17_x86_64.manylinux2014_x86_64.whl (319 kB)\n",
            "\u001b[2K   \u001b[90m━━━━━━━━━━━━━━━━━━━━━━━━━━━━━━━━━━━━━━━━\u001b[0m \u001b[32m319.7/319.7 kB\u001b[0m \u001b[31m22.4 MB/s\u001b[0m eta \u001b[36m0:00:00\u001b[0m\n",
            "\u001b[?25hBuilding wheels for collected packages: JsonForm, JsonSir\n",
            "  Building wheel for JsonForm (setup.py) ... \u001b[?25l\u001b[?25hdone\n",
            "  Created wheel for JsonForm: filename=JsonForm-0.0.2-py3-none-any.whl size=3311 sha256=a26cbc9f18fe0aaff117d358470354d7f31efff90601955119c0341e72b3616b\n",
            "  Stored in directory: /root/.cache/pip/wheels/b6/e5/87/11026246d3bd4ad67c0615682d2d6748bbd9a40ac0490882bd\n",
            "  Building wheel for JsonSir (setup.py) ... \u001b[?25l\u001b[?25hdone\n",
            "  Created wheel for JsonSir: filename=JsonSir-0.0.2-py3-none-any.whl size=4753 sha256=9857da1cc19d630f907e3f710ceab6b32fa3f4321aeb1e76f6bd000721cebad9\n",
            "  Stored in directory: /root/.cache/pip/wheels/1d/4c/d3/4d9757425983b43eb709be1043d82cd03fb863ce5f56f117e6\n",
            "Successfully built JsonForm JsonSir\n",
            "Installing collected packages: snowballstemmer, JsonSir, validators, sphinxcontrib-serializinghtml, sphinxcontrib-qthelp, sphinxcontrib-jsmath, sphinxcontrib-htmlhelp, sphinxcontrib-devhelp, sphinxcontrib-applehelp, python-easyconfig, propcache, multidict, imagesize, frozenlist, docutils, deprecated, cramjam, babel, async-timeout, alabaster, aiohappyeyeballs, yarl, sphinx, aiosignal, sphinxcontrib-jquery, fastparquet, aiohttp, sphinx-rtd-theme, JsonForm, discord.py, resource, pami\n",
            "Successfully installed JsonForm-0.0.2 JsonSir-0.0.2 aiohappyeyeballs-2.4.4 aiohttp-3.11.10 aiosignal-1.3.1 alabaster-1.0.0 async-timeout-5.0.1 babel-2.16.0 cramjam-2.9.0 deprecated-1.2.15 discord.py-2.4.0 docutils-0.21.2 fastparquet-2024.11.0 frozenlist-1.5.0 imagesize-1.4.1 multidict-6.1.0 pami-2024.12.6.1 propcache-0.2.1 python-easyconfig-0.1.7 resource-0.2.1 snowballstemmer-2.2.0 sphinx-8.1.3 sphinx-rtd-theme-3.0.2 sphinxcontrib-applehelp-2.0.0 sphinxcontrib-devhelp-2.0.0 sphinxcontrib-htmlhelp-2.1.0 sphinxcontrib-jquery-4.1 sphinxcontrib-jsmath-1.0.1 sphinxcontrib-qthelp-2.0.0 sphinxcontrib-serializinghtml-2.0.0 validators-0.34.0 yarl-1.18.3\n"
          ]
        }
      ],
      "source": [
        "!pip install pami"
      ]
    },
    {
      "cell_type": "markdown",
      "source": [
        "## Download the sample transactional database"
      ],
      "metadata": {
        "id": "aXMwnQmBF4rr"
      },
      "id": "aXMwnQmBF4rr"
    },
    {
      "cell_type": "code",
      "source": [
        "!wget -nc https://web-ext.u-aizu.ac.jp/~udayrage/datasets/transactionalDatabases/Transactional_T10I4D100K.csv"
      ],
      "metadata": {
        "colab": {
          "base_uri": "https://localhost:8080/"
        },
        "id": "9i5Wvom4F-kr",
        "outputId": "b924ab33-5053-4488-d665-2c94b63ad721"
      },
      "id": "9i5Wvom4F-kr",
      "execution_count": 2,
      "outputs": [
        {
          "output_type": "stream",
          "name": "stdout",
          "text": [
            "--2024-12-08 01:17:00--  https://web-ext.u-aizu.ac.jp/~udayrage/datasets/transactionalDatabases/Transactional_T10I4D100K.csv\n",
            "Resolving web-ext.u-aizu.ac.jp (web-ext.u-aizu.ac.jp)... 163.143.103.34\n",
            "Connecting to web-ext.u-aizu.ac.jp (web-ext.u-aizu.ac.jp)|163.143.103.34|:443... connected.\n",
            "HTTP request sent, awaiting response... 200 OK\n",
            "Length: 4019277 (3.8M) [text/csv]\n",
            "Saving to: ‘Transactional_T10I4D100K.csv’\n",
            "\n",
            "Transactional_T10I4 100%[===================>]   3.83M  3.18MB/s    in 1.2s    \n",
            "\n",
            "2024-12-08 01:17:02 (3.18 MB/s) - ‘Transactional_T10I4D100K.csv’ saved [4019277/4019277]\n",
            "\n"
          ]
        }
      ]
    },
    {
      "cell_type": "markdown",
      "source": [
        "## Discovering frequent patterns using FP-growth"
      ],
      "metadata": {
        "id": "tiKA5YNBGkZZ"
      },
      "id": "tiKA5YNBGkZZ"
    },
    {
      "cell_type": "markdown",
      "source": [
        "### Generic\n",
        "\n",
        "```python\n",
        "from PAMI.frequentPattern.basic import FPGrowth  as alg\n",
        "\n",
        "obj = alg.FPGrowth(iFile='inputFileName',minSup=minimumSupportvalue,sep='\\t')\n",
        "obj.mine()\n",
        "obj.save('outputFileName')\n",
        "\n",
        "frequentPatternsDF= obj.getPatternsAsDataFrame()\n",
        "print('#Patterns: ' + str(len(frequentPatternsDF)))\n",
        "print('Runtime: ' + str(obj.getRuntime()))\n",
        "print('Memory (RSS): ' + str(obj.getMemoryRSS()))\n",
        "print('Memory (USS): ' + str(obj.getMemoryUSS()))\n",
        "```\n",
        "\n"
      ],
      "metadata": {
        "id": "RwAbDmPAGpLZ"
      },
      "id": "RwAbDmPAGpLZ"
    },
    {
      "cell_type": "markdown",
      "source": [
        "### Example 1"
      ],
      "metadata": {
        "id": "p1h7KQYiG9ae"
      },
      "id": "p1h7KQYiG9ae"
    },
    {
      "cell_type": "code",
      "source": [
        "from PAMI.frequentPattern.basic import FPGrowth  as alg\n",
        "\n",
        "obj = alg.FPGrowth(iFile='Transactional_T10I4D100K.csv',minSup=300,sep='\\t')\n",
        "obj.mine()\n",
        "obj.save('frequentPatternsAtMinSupCount300.txt')\n",
        "\n",
        "frequentPatternsDF= obj.getPatternsAsDataFrame()\n",
        "print('#Patterns: ' + str(len(frequentPatternsDF)))\n",
        "print('Runtime: ' + str(obj.getRuntime()))\n",
        "print('Memory (RSS): ' + str(obj.getMemoryRSS()))\n",
        "print('Memory (USS): ' + str(obj.getMemoryUSS()))"
      ],
      "metadata": {
        "colab": {
          "base_uri": "https://localhost:8080/"
        },
        "id": "aonyqnmUGgyJ",
        "outputId": "72680703-b88a-4467-ac86-097df63d56cd"
      },
      "id": "aonyqnmUGgyJ",
      "execution_count": 3,
      "outputs": [
        {
          "output_type": "stream",
          "name": "stdout",
          "text": [
            "Frequent patterns were generated successfully using frequentPatternGrowth algorithm\n",
            "#Patterns: 4540\n",
            "Runtime: 7.953601360321045\n",
            "Memory (RSS): 563572736\n",
            "Memory (USS): 540659712\n"
          ]
        }
      ]
    },
    {
      "cell_type": "markdown",
      "source": [
        "## Discovering Closed Frequent Patterns"
      ],
      "metadata": {
        "id": "vww7aVdQHP3Z"
      },
      "id": "vww7aVdQHP3Z"
    },
    {
      "cell_type": "markdown",
      "source": [
        "### Generic\n",
        "\n",
        "\n",
        "\n",
        "```python\n",
        "from PAMI.frequentPattern.closed import CHARM  as alg\n",
        "\n",
        "obj = alg.CHARM(iFile='inputFileName', minSup=minimumSupportValue)\n",
        "obj.mine()\n",
        "obj.save('outputFileName')\n",
        "\n",
        "closedFPsDF= obj.getPatternsAsDataFrame()\n",
        "\n",
        "print('#Patterns: ' + str(len(obj.getPatternsAsDataFrame())))  \n",
        "print('Runtime: ' + str(obj.getRuntime()))\n",
        "print('Memory (RSS): ' + str(obj.getMemoryRSS()))\n",
        "print('Memory (USS): ' + str(obj.getMemoryUSS()))\n",
        "```\n",
        "\n"
      ],
      "metadata": {
        "id": "y-Lm5Na9HTvT"
      },
      "id": "y-Lm5Na9HTvT"
    },
    {
      "cell_type": "markdown",
      "source": [
        "### Example 2"
      ],
      "metadata": {
        "id": "TBNI5kT3HqbH"
      },
      "id": "TBNI5kT3HqbH"
    },
    {
      "cell_type": "code",
      "source": [
        "from PAMI.frequentPattern.closed import CHARM  as alg\n",
        "\n",
        "obj = alg.CHARM(iFile='Transactional_T10I4D100K.csv', minSup=300)\n",
        "obj.mine()\n",
        "obj.save('closedFrequentPatterns.txt')\n",
        "\n",
        "closedFPsDF= obj.getPatternsAsDataFrame()\n",
        "\n",
        "print('#Patterns: ' + str(len(obj.getPatternsAsDataFrame())))\n",
        "print('Runtime: ' + str(obj.getRuntime()))\n",
        "print('Memory (RSS): ' + str(obj.getMemoryRSS()))\n",
        "print('Memory (USS): ' + str(obj.getMemoryUSS()))"
      ],
      "metadata": {
        "colab": {
          "base_uri": "https://localhost:8080/"
        },
        "id": "ljtbQUopF1fE",
        "outputId": "d28af997-b6cf-47b5-b642-37363941e2f1"
      },
      "id": "ljtbQUopF1fE",
      "execution_count": 4,
      "outputs": [
        {
          "output_type": "stream",
          "name": "stdout",
          "text": [
            "Closed Frequent patterns were generated successfully using CHARM algorithm\n",
            "#Patterns: 2856\n",
            "Runtime: 7.535970211029053\n",
            "Memory (RSS): 583692288\n",
            "Memory (USS): 560738304\n"
          ]
        }
      ]
    },
    {
      "cell_type": "markdown",
      "source": [
        "## Discovering Maximal Frequent Patterns"
      ],
      "metadata": {
        "id": "NWzSMDsjH3hs"
      },
      "id": "NWzSMDsjH3hs"
    },
    {
      "cell_type": "markdown",
      "source": [
        "### Generic\n",
        "\n",
        "```python\n",
        "from PAMI.frequentPattern.maximal import MaxFPGrowth  as alg\n",
        "\n",
        "obj = alg.MaxFPGrowth(iFile='inputFileName', minSup=minimumSupportValue)\n",
        "obj.mine()\n",
        "obj.save('outputFileName')\n",
        "\n",
        "maximalFPsDF= obj.getPatternsAsDataFrame()\n",
        "\n",
        "print('#Patterns: ' + str(len(obj.getPatternsAsDataFrame())))\n",
        "print('Runtime: ' + str(obj.getRuntime()))\n",
        "print('Memory (RSS): ' + str(obj.getMemoryRSS()))\n",
        "print('Memory (USS): ' + str(obj.getMemoryUSS()))\n",
        "```\n",
        "\n"
      ],
      "metadata": {
        "id": "ww4Vv1_pH694"
      },
      "id": "ww4Vv1_pH694"
    },
    {
      "cell_type": "markdown",
      "source": [
        "### Example 3"
      ],
      "metadata": {
        "id": "rOeQDaIKIXWi"
      },
      "id": "rOeQDaIKIXWi"
    },
    {
      "cell_type": "code",
      "source": [
        "from PAMI.frequentPattern.maximal import MaxFPGrowth  as alg\n",
        "\n",
        "obj = alg.MaxFPGrowth(iFile='Transactional_T10I4D100K.csv', minSup=300)\n",
        "obj.mine()\n",
        "obj.save('maximalFrequentPatternsAtMinSupCount100.txt')\n",
        "\n",
        "maximalFPsDF= obj.getPatternsAsDataFrame()\n",
        "\n",
        "print('#Patterns: ' + str(len(obj.getPatternsAsDataFrame())))\n",
        "print('Runtime: ' + str(obj.getRuntime()))\n",
        "print('Memory (RSS): ' + str(obj.getMemoryRSS()))\n",
        "print('Memory (USS): ' + str(obj.getMemoryUSS()))"
      ],
      "metadata": {
        "colab": {
          "base_uri": "https://localhost:8080/"
        },
        "id": "_-px1Mv6H6gZ",
        "outputId": "08b5c178-ff8e-4e97-b1ec-1cffce2e28e1"
      },
      "id": "_-px1Mv6H6gZ",
      "execution_count": 5,
      "outputs": [
        {
          "output_type": "stream",
          "name": "stdout",
          "text": [
            "Maximal Frequent patterns were generated successfully using MaxFp-Growth algorithm \n",
            "#Patterns: 1292\n",
            "Runtime: 8.625927925109863\n",
            "Memory (RSS): 540712960\n",
            "Memory (USS): 517484544\n"
          ]
        }
      ]
    },
    {
      "cell_type": "markdown",
      "source": [
        "## Discovering Top-k Frequently Occurring Patterns"
      ],
      "metadata": {
        "id": "9r52n1lwIqwO"
      },
      "id": "9r52n1lwIqwO"
    },
    {
      "cell_type": "markdown",
      "source": [
        "### Generic\n",
        "\n",
        "\n",
        "\n",
        "```python\n",
        "from PAMI.frequentPattern.topk import FAE  as alg\n",
        "\n",
        "obj = alg.FAE(iFile='inputFileName', k=number of frequently patterns needed)\n",
        "obj.mine()\n",
        "obj.save('outputFileName')\n",
        "\n",
        "print('#Patterns: ' + str(len(obj.getPatternsAsDataFrame())))\n",
        "print('Runtime: ' + str(obj.getRuntime()))\n",
        "print('Memory (RSS): ' + str(obj.getMemoryRSS()))\n",
        "print('Memory (USS): ' + str(obj.getMemoryUSS()))\n",
        "```\n",
        "\n"
      ],
      "metadata": {
        "id": "bFQ93rypIwdJ"
      },
      "id": "bFQ93rypIwdJ"
    },
    {
      "cell_type": "markdown",
      "source": [
        "### Example 4"
      ],
      "metadata": {
        "id": "8A-ig8K-JBsZ"
      },
      "id": "8A-ig8K-JBsZ"
    },
    {
      "cell_type": "code",
      "source": [
        "from PAMI.frequentPattern.topk import FAE  as alg\n",
        "\n",
        "obj = alg.FAE(iFile='Transactional_T10I4D100K.csv', k=1000)\n",
        "obj.mine()\n",
        "obj.save('topkFrequentPatterns.txt')\n",
        "\n",
        "print('#Patterns: ' + str(len(obj.getPatternsAsDataFrame())))\n",
        "print('Runtime: ' + str(obj.getRuntime()))\n",
        "print('Memory (RSS): ' + str(obj.getMemoryRSS()))\n",
        "print('Memory (USS): ' + str(obj.getMemoryUSS()))"
      ],
      "metadata": {
        "colab": {
          "base_uri": "https://localhost:8080/"
        },
        "id": "FUEpvCYhIv3r",
        "outputId": "0fd345c5-d41a-4f5f-caf7-64ece6778712"
      },
      "id": "FUEpvCYhIv3r",
      "execution_count": 6,
      "outputs": [
        {
          "output_type": "stream",
          "name": "stdout",
          "text": [
            " TopK frequent patterns were successfully generated using FAE algorithm.\n",
            "#Patterns: 1000\n",
            "Runtime: 12.060621500015259\n",
            "Memory (RSS): 375300096\n",
            "Memory (USS): 352317440\n"
          ]
        }
      ]
    },
    {
      "cell_type": "markdown",
      "source": [
        "## Rare Item Problem - Calculating the items' MIS values"
      ],
      "metadata": {
        "id": "Gc_k_tfwJTOD"
      },
      "id": "Gc_k_tfwJTOD"
    },
    {
      "cell_type": "markdown",
      "source": [
        "### Generic\n",
        "\n",
        "\n",
        "\n",
        "```python\n",
        "from PAMI.extras.calculateMISValues import usingBeta as ub\n",
        "cd = ub.usingBeta(iFile='inputFileName',\n",
        "        beta=percentageOfItemsFrequency, LS=lowestMinimumSupportForAnItem) #using default tab separator\n",
        "cd.calculateMIS()\n",
        "cd.save('outputFileName')\n",
        "```\n",
        "\n"
      ],
      "metadata": {
        "id": "sems1MQUJbaR"
      },
      "id": "sems1MQUJbaR"
    },
    {
      "cell_type": "markdown",
      "source": [
        "### Example 5"
      ],
      "metadata": {
        "id": "fvoG0ZTlJeDk"
      },
      "id": "fvoG0ZTlJeDk"
    },
    {
      "cell_type": "code",
      "source": [
        "from PAMI.extras.calculateMISValues import usingBeta as ub\n",
        "cd = ub.usingBeta(iFile='Transactional_T10I4D100K.csv',\n",
        "        beta=0.5, LS=100) #using default tab separator\n",
        "cd.calculateMIS()\n",
        "cd.save('MIS.txt')"
      ],
      "metadata": {
        "id": "bIA9BiDwJatI"
      },
      "id": "bIA9BiDwJatI",
      "execution_count": 7,
      "outputs": []
    },
    {
      "cell_type": "markdown",
      "source": [
        "## Rare Item Problem - Mining Frequent Patterns using Multiple Minimum Support Values"
      ],
      "metadata": {
        "id": "7Vq4trmIKL-J"
      },
      "id": "7Vq4trmIKL-J"
    },
    {
      "cell_type": "markdown",
      "source": [
        "### Generic\n",
        "\n",
        "\n",
        "```python\n",
        "from PAMI.multipleMinimumSupportBasedFrequentPattern.basic \\\n",
        "    import CFPGrowthPlus as alg\n",
        "\n",
        "obj = alg.CFPGrowthPlus(iFile='inputFileName',\n",
        "        MIS='MIS.txt')  #using default tab separator\n",
        "obj.mine()         \n",
        "obj.save('outputFileName')\n",
        "print('Total No of patterns: ' +\n",
        "    str(len(obj.getPatternsAsDataFrame())))\n",
        "print('Runtime: ' + str(obj.getRuntime()))\n",
        "print('Memory (RSS): ' + str(obj.getMemoryRSS()))\n",
        "print('Memory (USS): ' + str(obj.getMemoryUSS()))\n",
        "```\n",
        "\n"
      ],
      "metadata": {
        "id": "k4z2tnqxKUiq"
      },
      "id": "k4z2tnqxKUiq"
    },
    {
      "cell_type": "markdown",
      "source": [
        "### Example 6"
      ],
      "metadata": {
        "id": "Ybolv5HeKX0n"
      },
      "id": "Ybolv5HeKX0n"
    },
    {
      "cell_type": "code",
      "source": [
        "from PAMI.multipleMinimumSupportBasedFrequentPattern.basic \\\n",
        "    import CFPGrowthPlus as alg\n",
        "\n",
        "obj = alg.CFPGrowthPlus(iFile='Transactional_T10I4D100K.csv',\n",
        "        MIS='MIS.txt')  #using default tab separator\n",
        "obj.mine()\n",
        "obj.save('frequentPatternsMultipleMinimumSupports.txt')\n",
        "print('Total No of patterns: ' +\n",
        "    str(len(obj.getPatternsAsDataFrame())))\n",
        "print('Runtime: ' + str(obj.getRuntime()))\n",
        "print('Memory (RSS): ' + str(obj.getMemoryRSS()))\n",
        "print('Memory (USS): ' + str(obj.getMemoryUSS()))"
      ],
      "metadata": {
        "colab": {
          "base_uri": "https://localhost:8080/"
        },
        "id": "dNFmwbO3KT8p",
        "outputId": "4f373496-df2c-4f13-bdb0-c0eedb7fa2fd"
      },
      "id": "dNFmwbO3KT8p",
      "execution_count": 8,
      "outputs": [
        {
          "output_type": "stream",
          "name": "stdout",
          "text": [
            "Frequent patterns were generated successfully using Conditional Frequent Pattern Growth algorithm\n",
            "Total No of patterns: 4947\n",
            "Runtime: 13.100472211837769\n",
            "Memory (RSS): 706486272\n",
            "Memory (USS): 683413504\n"
          ]
        }
      ]
    },
    {
      "cell_type": "markdown",
      "source": [
        "## Discovering Correlated Patterns"
      ],
      "metadata": {
        "id": "bmNkbtS_LIAR"
      },
      "id": "bmNkbtS_LIAR"
    },
    {
      "cell_type": "markdown",
      "source": [
        "### Generic\n",
        "\n",
        "\n",
        "\n",
        "```python\n",
        "from PAMI.correlatedPattern.basic import CoMine as alg\n",
        "\n",
        "obj = alg.CoMine(iFile='inputFileName',\n",
        "        minSup=minimumSupportValue, minAllConf=minimumAllConfidenceValue)\n",
        "obj.mine()\n",
        "obj.save('correlatedPatterns.txt')\n",
        "\n",
        "print('#Patterns: ' + str(len(obj.getPatternsAsDataFrame())))\n",
        "print('Runtime: ' + str(obj.getRuntime()))\n",
        "print('Memory (RSS): ' + str(obj.getMemoryRSS()))\n",
        "print('Memory (USS): ' + str(obj.getMemoryUSS()))\n",
        "```\n",
        "\n"
      ],
      "metadata": {
        "id": "-KMikDejLNj8"
      },
      "id": "-KMikDejLNj8"
    },
    {
      "cell_type": "markdown",
      "source": [
        "### Example 7"
      ],
      "metadata": {
        "id": "VeWLau1ELQvt"
      },
      "id": "VeWLau1ELQvt"
    },
    {
      "cell_type": "code",
      "source": [
        "from PAMI.correlatedPattern.basic import CoMine as alg\n",
        "\n",
        "obj = alg.CoMine(iFile='Transactional_T10I4D100K.csv', minSup=300, minAllConf=0.5)\n",
        "obj.mine()\n",
        "obj.save('correlatedPatterns.txt')\n",
        "\n",
        "print('#Patterns: ' + str(len(obj.getPatternsAsDataFrame())))\n",
        "print('Runtime: ' + str(obj.getRuntime()))\n",
        "print('Memory (RSS): ' + str(obj.getMemoryRSS()))\n",
        "print('Memory (USS): ' + str(obj.getMemoryUSS()))"
      ],
      "metadata": {
        "colab": {
          "base_uri": "https://localhost:8080/"
        },
        "id": "lanvH9puLL_F",
        "outputId": "0f8f7e36-5753-493e-d0cd-f716b9173372"
      },
      "id": "lanvH9puLL_F",
      "execution_count": 9,
      "outputs": [
        {
          "output_type": "stream",
          "name": "stdout",
          "text": [
            "Correlated patterns were generated successfully using CoMine algorithm\n",
            "#Patterns: 723\n",
            "Runtime: 9.87678837776184\n",
            "Memory (RSS): 662261760\n",
            "Memory (USS): 639066112\n"
          ]
        }
      ]
    },
    {
      "cell_type": "markdown",
      "source": [
        "## Discovering Relative Frequent Patterns"
      ],
      "metadata": {
        "id": "oiCPzdFxLwQ2"
      },
      "id": "oiCPzdFxLwQ2"
    },
    {
      "cell_type": "markdown",
      "source": [
        "### Generic\n",
        "\n",
        "\n",
        "\n",
        "```python\n",
        "from PAMI.relativeFrequentPattern.basic import RSFPGrowth as alg\n",
        "\n",
        "obj = alg.RSFPGrowth(iFile='inputFileName', minSup=minimumSupportCount, minRS=minimumRelativeSupportValue)\n",
        "\n",
        "obj.mine()\n",
        "obj.save('outputFileName')\n",
        "\n",
        "relativeFrequentPatternsDF= obj.getPatternsAsDataFrame()\n",
        "print('#Patterns: ' + str(len(relativeFrequentPatternsDF)))\n",
        "print('Runtime: ' + str(obj.getRuntime())) #measure the runtime\n",
        "print('Memory (RSS): ' + str(obj.getMemoryRSS()))\n",
        "print('Memory (USS): ' + str(obj.getMemoryUSS()))\n",
        "```\n",
        "\n"
      ],
      "metadata": {
        "id": "NgoNQlG9L7nH"
      },
      "id": "NgoNQlG9L7nH"
    },
    {
      "cell_type": "markdown",
      "source": [
        "### Example 8"
      ],
      "metadata": {
        "id": "9pz77qyYL-9T"
      },
      "id": "9pz77qyYL-9T"
    },
    {
      "cell_type": "code",
      "source": [
        "from PAMI.relativeFrequentPattern.basic import RSFPGrowth as alg\n",
        "\n",
        "obj = alg.RSFPGrowth(iFile='Transactional_T10I4D100K.csv', minSup=300, minRS=0.75)\n",
        "\n",
        "obj.mine()\n",
        "obj.save('relativeFrequentPatterns.txt')\n",
        "\n",
        "relativeFrequentPatternsDF= obj.getPatternsAsDataFrame()\n",
        "print('#Patterns: ' + str(len(relativeFrequentPatternsDF)))\n",
        "print('Runtime: ' + str(obj.getRuntime())) #measure the runtime\n",
        "print('Memory (RSS): ' + str(obj.getMemoryRSS()))\n",
        "print('Memory (USS): ' + str(obj.getMemoryUSS()))"
      ],
      "metadata": {
        "colab": {
          "base_uri": "https://localhost:8080/"
        },
        "id": "RG3r3mWELz67",
        "outputId": "aa173372-712f-46e0-fa21-b256b9f008be"
      },
      "id": "RG3r3mWELz67",
      "execution_count": 10,
      "outputs": [
        {
          "output_type": "stream",
          "name": "stdout",
          "text": [
            "Relative support frequent patterns were generated successfully using RSFPGrowth algorithm\n",
            "#Patterns: 4540\n",
            "Runtime: 15.103759288787842\n",
            "Memory (RSS): 578953216\n",
            "Memory (USS): 555921408\n"
          ]
        }
      ]
    },
    {
      "cell_type": "markdown",
      "source": [
        "## Discovering Fault-Tolerant Frequent Patterns"
      ],
      "metadata": {
        "id": "v2NKfNVSMciE"
      },
      "id": "v2NKfNVSMciE"
    },
    {
      "cell_type": "markdown",
      "source": [
        "### Generic\n",
        "\n",
        "\n",
        "\n",
        "```python\n",
        "from PAMI.faultTolerantFrequentPattern.basic import FTFPGrowth as alg\n",
        "\n",
        "obj = alg.FTFPGrowth(iFile='inputFileName', minSup=minimumSupportValue, itemSup=minimumSupportAnItemHasToMaintain, minLength=minimumLengthOfAnItemset, faultTolerance=faultTolerantValue, sep=\"\\t\")\n",
        "obj.mine()\n",
        "\n",
        "print('#Patterns: ' + str(len(relativeFrequentPatternsDF)))\n",
        "print('Runtime: ' + str(obj.getRuntime())) #measure the runtime\n",
        "print('Memory (RSS): ' + str(obj.getMemoryRSS()))\n",
        "print('Memory (USS): ' + str(obj.getMemoryUSS()))\n",
        "```\n",
        "\n"
      ],
      "metadata": {
        "id": "MhOhZwq3MgQ2"
      },
      "id": "MhOhZwq3MgQ2"
    },
    {
      "cell_type": "markdown",
      "source": [
        "### Example 9"
      ],
      "metadata": {
        "id": "2-GzQqFuMj3-"
      },
      "id": "2-GzQqFuMj3-"
    },
    {
      "cell_type": "code",
      "source": [
        "from PAMI.faultTolerantFrequentPattern.basic import FTFPGrowth as alg\n",
        "\n",
        "obj = alg.FTFPGrowth(iFile='Transactional_T10I4D100K.csv', minSup=100, itemSup=100, minLength=3, faultTolerance=1, sep=\"\\t\")\n",
        "\n",
        "obj.mine()\n",
        "\n",
        "print('#Patterns: ' + str(len(relativeFrequentPatternsDF)))\n",
        "print('Runtime: ' + str(obj.getRuntime())) #measure the runtime\n",
        "print('Memory (RSS): ' + str(obj.getMemoryRSS()))\n",
        "print('Memory (USS): ' + str(obj.getMemoryUSS()))"
      ],
      "metadata": {
        "colab": {
          "base_uri": "https://localhost:8080/"
        },
        "id": "nSkzk503Mfhs",
        "outputId": "6d06804f-7403-46ea-dab5-1164a1c405fe"
      },
      "id": "nSkzk503Mfhs",
      "execution_count": 11,
      "outputs": [
        {
          "output_type": "stream",
          "name": "stdout",
          "text": [
            "Frequent patterns were generated successfully using frequentPatternGrowth algorithm\n",
            "#Patterns: 4540\n",
            "Runtime: 12.555897951126099\n",
            "Memory (RSS): 931741696\n",
            "Memory (USS): 908890112\n"
          ]
        }
      ]
    },
    {
      "cell_type": "markdown",
      "source": [
        "## Discovering Association Rules From the Frequent Patterns"
      ],
      "metadata": {
        "id": "8PigaEY6Ng3t"
      },
      "id": "8PigaEY6Ng3t"
    },
    {
      "cell_type": "markdown",
      "source": [
        "### Generic\n",
        "\n",
        "\n",
        "\n",
        "```python\n",
        "from PAMI.AssociationRules.basic import confidence as alg\n",
        "\n",
        "obj = alg.confidence('inputFileName', minConf=minimumConfidenceValue)\n",
        "obj.mine()\n",
        "obj.printResults()\n",
        "obj.save(\"outputFileName\")\n",
        "```\n",
        "\n"
      ],
      "metadata": {
        "id": "jeFj4OWVNmtm"
      },
      "id": "jeFj4OWVNmtm"
    },
    {
      "cell_type": "markdown",
      "source": [
        "### Example 10"
      ],
      "metadata": {
        "id": "EZEFTHfsNsLR"
      },
      "id": "EZEFTHfsNsLR"
    },
    {
      "cell_type": "code",
      "source": [
        "from PAMI.AssociationRules.basic import confidence as alg\n",
        "\n",
        "obj = alg.confidence('frequentPatternsAtMinSupCount300.txt', minConf=0.75)\n",
        "obj.mine()\n",
        "obj.printResults()\n",
        "obj.save(\"associationRulesconfidence.csv\")"
      ],
      "metadata": {
        "colab": {
          "base_uri": "https://localhost:8080/"
        },
        "id": "5otyL8jjNkdh",
        "outputId": "354f0944-1794-4f98-b1c4-682c3271a640"
      },
      "id": "5otyL8jjNkdh",
      "execution_count": 12,
      "outputs": [
        {
          "output_type": "stream",
          "name": "stdout",
          "text": [
            "Association rules successfully  generated from frequent patterns \n",
            "Total number of Association Rules: 22984\n",
            "Total Memory in USS: 908894208\n",
            "Total Memory in RSS 931741696\n",
            "Total ExecutionTime in ms: 0.02508831024169922\n"
          ]
        }
      ]
    }
  ],
  "metadata": {
    "kernelspec": {
      "display_name": "Python 3",
      "name": "python3"
    },
    "language_info": {
      "codemirror_mode": {
        "name": "ipython",
        "version": 2
      },
      "file_extension": ".py",
      "mimetype": "text/x-python",
      "name": "python",
      "nbconvert_exporter": "python",
      "pygments_lexer": "ipython2",
      "version": "2.7.6"
    },
    "colab": {
      "provenance": [],
      "gpuType": "V28",
      "include_colab_link": true
    },
    "accelerator": "TPU"
  },
  "nbformat": 4,
  "nbformat_minor": 5
}