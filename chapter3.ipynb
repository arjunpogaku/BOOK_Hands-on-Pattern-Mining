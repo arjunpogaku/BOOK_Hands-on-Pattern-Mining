{
  "cells": [
    {
      "cell_type": "markdown",
      "metadata": {
        "id": "view-in-github",
        "colab_type": "text"
      },
      "source": [
        "<a href=\"https://colab.research.google.com/github/arjunpogaku/BOOK_Hands-on-Pattern-Mining/blob/main/chapter3.ipynb\" target=\"_parent\"><img src=\"https://colab.research.google.com/assets/colab-badge.svg\" alt=\"Open In Colab\"/></a>"
      ]
    },
    {
      "cell_type": "markdown",
      "source": [
        "# **Chapter 3: Transactional Databases - Representation, Creation, and Statistics**"
      ],
      "metadata": {
        "id": "rERy9OaWArsH"
      },
      "id": "rERy9OaWArsH"
    },
    {
      "cell_type": "markdown",
      "source": [
        "## Installing the PAMI Library"
      ],
      "metadata": {
        "id": "awgt4UMEAy2U"
      },
      "id": "awgt4UMEAy2U"
    },
    {
      "cell_type": "code",
      "source": [
        "!pip install pami"
      ],
      "metadata": {
        "colab": {
          "base_uri": "https://localhost:8080/"
        },
        "id": "dB4AHoJJBUL1",
        "outputId": "e724541e-b6bb-45dc-dfee-fc3df89daf50"
      },
      "id": "dB4AHoJJBUL1",
      "execution_count": 1,
      "outputs": [
        {
          "output_type": "stream",
          "name": "stdout",
          "text": [
            "Collecting pami\n",
            "  Downloading pami-2024.12.6.1-py3-none-any.whl.metadata (80 kB)\n",
            "\u001b[?25l     \u001b[90m━━━━━━━━━━━━━━━━━━━━━━━━━━━━━━━━━━━━━━━━\u001b[0m \u001b[32m0.0/80.3 kB\u001b[0m \u001b[31m?\u001b[0m eta \u001b[36m-:--:--\u001b[0m\r\u001b[2K     \u001b[90m━━━━━━━━━━━━━━━━━━━━━━━━━━━━━━━━━━━━━━━━\u001b[0m \u001b[32m80.3/80.3 kB\u001b[0m \u001b[31m2.4 MB/s\u001b[0m eta \u001b[36m0:00:00\u001b[0m\n",
            "\u001b[?25hRequirement already satisfied: psutil in /usr/local/lib/python3.10/dist-packages (from pami) (5.9.5)\n",
            "Requirement already satisfied: pandas in /usr/local/lib/python3.10/dist-packages (from pami) (2.2.2)\n",
            "Requirement already satisfied: plotly in /usr/local/lib/python3.10/dist-packages (from pami) (5.24.1)\n",
            "Requirement already satisfied: matplotlib in /usr/local/lib/python3.10/dist-packages (from pami) (3.8.0)\n",
            "Collecting resource (from pami)\n",
            "  Downloading Resource-0.2.1-py2.py3-none-any.whl.metadata (478 bytes)\n",
            "Collecting validators (from pami)\n",
            "  Downloading validators-0.34.0-py3-none-any.whl.metadata (3.8 kB)\n",
            "Requirement already satisfied: urllib3 in /usr/local/lib/python3.10/dist-packages (from pami) (2.2.3)\n",
            "Requirement already satisfied: Pillow in /usr/local/lib/python3.10/dist-packages (from pami) (11.0.0)\n",
            "Requirement already satisfied: numpy in /usr/local/lib/python3.10/dist-packages (from pami) (1.26.4)\n",
            "Requirement already satisfied: sphinx in /usr/local/lib/python3.10/dist-packages (from pami) (8.1.3)\n",
            "Collecting sphinx-rtd-theme (from pami)\n",
            "  Downloading sphinx_rtd_theme-3.0.2-py2.py3-none-any.whl.metadata (4.4 kB)\n",
            "Collecting discord.py (from pami)\n",
            "  Downloading discord.py-2.4.0-py3-none-any.whl.metadata (6.9 kB)\n",
            "Requirement already satisfied: networkx in /usr/local/lib/python3.10/dist-packages (from pami) (3.4.2)\n",
            "Requirement already satisfied: deprecated in /usr/local/lib/python3.10/dist-packages (from pami) (1.2.15)\n",
            "Collecting fastparquet (from pami)\n",
            "  Downloading fastparquet-2024.11.0-cp310-cp310-manylinux_2_17_x86_64.manylinux2014_x86_64.whl.metadata (4.2 kB)\n",
            "Requirement already satisfied: wrapt<2,>=1.10 in /usr/local/lib/python3.10/dist-packages (from deprecated->pami) (1.17.0)\n",
            "Requirement already satisfied: aiohttp<4,>=3.7.4 in /usr/local/lib/python3.10/dist-packages (from discord.py->pami) (3.11.9)\n",
            "Collecting cramjam>=2.3 (from fastparquet->pami)\n",
            "  Downloading cramjam-2.9.0-cp310-cp310-manylinux_2_17_x86_64.manylinux2014_x86_64.whl.metadata (4.9 kB)\n",
            "Requirement already satisfied: fsspec in /usr/local/lib/python3.10/dist-packages (from fastparquet->pami) (2024.10.0)\n",
            "Requirement already satisfied: packaging in /usr/local/lib/python3.10/dist-packages (from fastparquet->pami) (24.2)\n",
            "Requirement already satisfied: python-dateutil>=2.8.2 in /usr/local/lib/python3.10/dist-packages (from pandas->pami) (2.8.2)\n",
            "Requirement already satisfied: pytz>=2020.1 in /usr/local/lib/python3.10/dist-packages (from pandas->pami) (2024.2)\n",
            "Requirement already satisfied: tzdata>=2022.7 in /usr/local/lib/python3.10/dist-packages (from pandas->pami) (2024.2)\n",
            "Requirement already satisfied: contourpy>=1.0.1 in /usr/local/lib/python3.10/dist-packages (from matplotlib->pami) (1.3.1)\n",
            "Requirement already satisfied: cycler>=0.10 in /usr/local/lib/python3.10/dist-packages (from matplotlib->pami) (0.12.1)\n",
            "Requirement already satisfied: fonttools>=4.22.0 in /usr/local/lib/python3.10/dist-packages (from matplotlib->pami) (4.55.1)\n",
            "Requirement already satisfied: kiwisolver>=1.0.1 in /usr/local/lib/python3.10/dist-packages (from matplotlib->pami) (1.4.7)\n",
            "Requirement already satisfied: pyparsing>=2.3.1 in /usr/local/lib/python3.10/dist-packages (from matplotlib->pami) (3.2.0)\n",
            "Requirement already satisfied: tenacity>=6.2.0 in /usr/local/lib/python3.10/dist-packages (from plotly->pami) (9.0.0)\n",
            "Collecting JsonForm>=0.0.2 (from resource->pami)\n",
            "  Downloading JsonForm-0.0.2.tar.gz (2.4 kB)\n",
            "  Preparing metadata (setup.py) ... \u001b[?25l\u001b[?25hdone\n",
            "Collecting JsonSir>=0.0.2 (from resource->pami)\n",
            "  Downloading JsonSir-0.0.2.tar.gz (2.2 kB)\n",
            "  Preparing metadata (setup.py) ... \u001b[?25l\u001b[?25hdone\n",
            "Collecting python-easyconfig>=0.1.0 (from resource->pami)\n",
            "  Downloading Python_EasyConfig-0.1.7-py2.py3-none-any.whl.metadata (462 bytes)\n",
            "Requirement already satisfied: sphinxcontrib-applehelp>=1.0.7 in /usr/local/lib/python3.10/dist-packages (from sphinx->pami) (2.0.0)\n",
            "Requirement already satisfied: sphinxcontrib-devhelp>=1.0.6 in /usr/local/lib/python3.10/dist-packages (from sphinx->pami) (2.0.0)\n",
            "Requirement already satisfied: sphinxcontrib-htmlhelp>=2.0.6 in /usr/local/lib/python3.10/dist-packages (from sphinx->pami) (2.1.0)\n",
            "Requirement already satisfied: sphinxcontrib-jsmath>=1.0.1 in /usr/local/lib/python3.10/dist-packages (from sphinx->pami) (1.0.1)\n",
            "Requirement already satisfied: sphinxcontrib-qthelp>=1.0.6 in /usr/local/lib/python3.10/dist-packages (from sphinx->pami) (2.0.0)\n",
            "Requirement already satisfied: sphinxcontrib-serializinghtml>=1.1.9 in /usr/local/lib/python3.10/dist-packages (from sphinx->pami) (2.0.0)\n",
            "Requirement already satisfied: Jinja2>=3.1 in /usr/local/lib/python3.10/dist-packages (from sphinx->pami) (3.1.4)\n",
            "Requirement already satisfied: Pygments>=2.17 in /usr/local/lib/python3.10/dist-packages (from sphinx->pami) (2.18.0)\n",
            "Requirement already satisfied: docutils<0.22,>=0.20 in /usr/local/lib/python3.10/dist-packages (from sphinx->pami) (0.21.2)\n",
            "Requirement already satisfied: snowballstemmer>=2.2 in /usr/local/lib/python3.10/dist-packages (from sphinx->pami) (2.2.0)\n",
            "Requirement already satisfied: babel>=2.13 in /usr/local/lib/python3.10/dist-packages (from sphinx->pami) (2.16.0)\n",
            "Requirement already satisfied: alabaster>=0.7.14 in /usr/local/lib/python3.10/dist-packages (from sphinx->pami) (1.0.0)\n",
            "Requirement already satisfied: imagesize>=1.3 in /usr/local/lib/python3.10/dist-packages (from sphinx->pami) (1.4.1)\n",
            "Requirement already satisfied: requests>=2.30.0 in /usr/local/lib/python3.10/dist-packages (from sphinx->pami) (2.32.3)\n",
            "Requirement already satisfied: tomli>=2 in /usr/local/lib/python3.10/dist-packages (from sphinx->pami) (2.2.1)\n",
            "Collecting sphinxcontrib-jquery<5,>=4 (from sphinx-rtd-theme->pami)\n",
            "  Downloading sphinxcontrib_jquery-4.1-py2.py3-none-any.whl.metadata (2.6 kB)\n",
            "Requirement already satisfied: aiohappyeyeballs>=2.3.0 in /usr/local/lib/python3.10/dist-packages (from aiohttp<4,>=3.7.4->discord.py->pami) (2.4.4)\n",
            "Requirement already satisfied: aiosignal>=1.1.2 in /usr/local/lib/python3.10/dist-packages (from aiohttp<4,>=3.7.4->discord.py->pami) (1.3.1)\n",
            "Requirement already satisfied: async-timeout<6.0,>=4.0 in /usr/local/lib/python3.10/dist-packages (from aiohttp<4,>=3.7.4->discord.py->pami) (4.0.3)\n",
            "Requirement already satisfied: attrs>=17.3.0 in /usr/local/lib/python3.10/dist-packages (from aiohttp<4,>=3.7.4->discord.py->pami) (24.2.0)\n",
            "Requirement already satisfied: frozenlist>=1.1.1 in /usr/local/lib/python3.10/dist-packages (from aiohttp<4,>=3.7.4->discord.py->pami) (1.5.0)\n",
            "Requirement already satisfied: multidict<7.0,>=4.5 in /usr/local/lib/python3.10/dist-packages (from aiohttp<4,>=3.7.4->discord.py->pami) (6.1.0)\n",
            "Requirement already satisfied: propcache>=0.2.0 in /usr/local/lib/python3.10/dist-packages (from aiohttp<4,>=3.7.4->discord.py->pami) (0.2.1)\n",
            "Requirement already satisfied: yarl<2.0,>=1.17.0 in /usr/local/lib/python3.10/dist-packages (from aiohttp<4,>=3.7.4->discord.py->pami) (1.18.3)\n",
            "Requirement already satisfied: MarkupSafe>=2.0 in /usr/local/lib/python3.10/dist-packages (from Jinja2>=3.1->sphinx->pami) (3.0.2)\n",
            "Requirement already satisfied: jsonschema in /usr/local/lib/python3.10/dist-packages (from JsonForm>=0.0.2->resource->pami) (4.23.0)\n",
            "Requirement already satisfied: six>=1.5 in /usr/local/lib/python3.10/dist-packages (from python-dateutil>=2.8.2->pandas->pami) (1.16.0)\n",
            "Requirement already satisfied: PyYAML in /usr/local/lib/python3.10/dist-packages (from python-easyconfig>=0.1.0->resource->pami) (6.0.2)\n",
            "Requirement already satisfied: charset-normalizer<4,>=2 in /usr/local/lib/python3.10/dist-packages (from requests>=2.30.0->sphinx->pami) (3.4.0)\n",
            "Requirement already satisfied: idna<4,>=2.5 in /usr/local/lib/python3.10/dist-packages (from requests>=2.30.0->sphinx->pami) (3.10)\n",
            "Requirement already satisfied: certifi>=2017.4.17 in /usr/local/lib/python3.10/dist-packages (from requests>=2.30.0->sphinx->pami) (2024.8.30)\n",
            "Requirement already satisfied: typing-extensions>=4.1.0 in /usr/local/lib/python3.10/dist-packages (from multidict<7.0,>=4.5->aiohttp<4,>=3.7.4->discord.py->pami) (4.12.2)\n",
            "Requirement already satisfied: jsonschema-specifications>=2023.03.6 in /usr/local/lib/python3.10/dist-packages (from jsonschema->JsonForm>=0.0.2->resource->pami) (2024.10.1)\n",
            "Requirement already satisfied: referencing>=0.28.4 in /usr/local/lib/python3.10/dist-packages (from jsonschema->JsonForm>=0.0.2->resource->pami) (0.35.1)\n",
            "Requirement already satisfied: rpds-py>=0.7.1 in /usr/local/lib/python3.10/dist-packages (from jsonschema->JsonForm>=0.0.2->resource->pami) (0.22.3)\n",
            "Downloading pami-2024.12.6.1-py3-none-any.whl (1.2 MB)\n",
            "\u001b[2K   \u001b[90m━━━━━━━━━━━━━━━━━━━━━━━━━━━━━━━━━━━━━━━━\u001b[0m \u001b[32m1.2/1.2 MB\u001b[0m \u001b[31m19.2 MB/s\u001b[0m eta \u001b[36m0:00:00\u001b[0m\n",
            "\u001b[?25hDownloading discord.py-2.4.0-py3-none-any.whl (1.1 MB)\n",
            "\u001b[2K   \u001b[90m━━━━━━━━━━━━━━━━━━━━━━━━━━━━━━━━━━━━━━━━\u001b[0m \u001b[32m1.1/1.1 MB\u001b[0m \u001b[31m45.3 MB/s\u001b[0m eta \u001b[36m0:00:00\u001b[0m\n",
            "\u001b[?25hDownloading fastparquet-2024.11.0-cp310-cp310-manylinux_2_17_x86_64.manylinux2014_x86_64.whl (1.7 MB)\n",
            "\u001b[2K   \u001b[90m━━━━━━━━━━━━━━━━━━━━━━━━━━━━━━━━━━━━━━━━\u001b[0m \u001b[32m1.7/1.7 MB\u001b[0m \u001b[31m28.3 MB/s\u001b[0m eta \u001b[36m0:00:00\u001b[0m\n",
            "\u001b[?25hDownloading Resource-0.2.1-py2.py3-none-any.whl (25 kB)\n",
            "Downloading sphinx_rtd_theme-3.0.2-py2.py3-none-any.whl (7.7 MB)\n",
            "\u001b[2K   \u001b[90m━━━━━━━━━━━━━━━━━━━━━━━━━━━━━━━━━━━━━━━━\u001b[0m \u001b[32m7.7/7.7 MB\u001b[0m \u001b[31m60.0 MB/s\u001b[0m eta \u001b[36m0:00:00\u001b[0m\n",
            "\u001b[?25hDownloading validators-0.34.0-py3-none-any.whl (43 kB)\n",
            "\u001b[2K   \u001b[90m━━━━━━━━━━━━━━━━━━━━━━━━━━━━━━━━━━━━━━━━\u001b[0m \u001b[32m43.5/43.5 kB\u001b[0m \u001b[31m3.5 MB/s\u001b[0m eta \u001b[36m0:00:00\u001b[0m\n",
            "\u001b[?25hDownloading cramjam-2.9.0-cp310-cp310-manylinux_2_17_x86_64.manylinux2014_x86_64.whl (2.4 MB)\n",
            "\u001b[2K   \u001b[90m━━━━━━━━━━━━━━━━━━━━━━━━━━━━━━━━━━━━━━━━\u001b[0m \u001b[32m2.4/2.4 MB\u001b[0m \u001b[31m51.1 MB/s\u001b[0m eta \u001b[36m0:00:00\u001b[0m\n",
            "\u001b[?25hDownloading Python_EasyConfig-0.1.7-py2.py3-none-any.whl (5.4 kB)\n",
            "Downloading sphinxcontrib_jquery-4.1-py2.py3-none-any.whl (121 kB)\n",
            "\u001b[2K   \u001b[90m━━━━━━━━━━━━━━━━━━━━━━━━━━━━━━━━━━━━━━━━\u001b[0m \u001b[32m121.1/121.1 kB\u001b[0m \u001b[31m10.5 MB/s\u001b[0m eta \u001b[36m0:00:00\u001b[0m\n",
            "\u001b[?25hBuilding wheels for collected packages: JsonForm, JsonSir\n",
            "  Building wheel for JsonForm (setup.py) ... \u001b[?25l\u001b[?25hdone\n",
            "  Created wheel for JsonForm: filename=JsonForm-0.0.2-py3-none-any.whl size=3311 sha256=6a275164921822c362ad6a4888a27e1968aa0626e3ba5daa02bb3d34bdee5b7a\n",
            "  Stored in directory: /root/.cache/pip/wheels/b6/e5/87/11026246d3bd4ad67c0615682d2d6748bbd9a40ac0490882bd\n",
            "  Building wheel for JsonSir (setup.py) ... \u001b[?25l\u001b[?25hdone\n",
            "  Created wheel for JsonSir: filename=JsonSir-0.0.2-py3-none-any.whl size=4753 sha256=451a1a9d4ff10c5da0564364f4e2b58e6abd1bc88e81c6aa44060cb5b0ac3c62\n",
            "  Stored in directory: /root/.cache/pip/wheels/1d/4c/d3/4d9757425983b43eb709be1043d82cd03fb863ce5f56f117e6\n",
            "Successfully built JsonForm JsonSir\n",
            "Installing collected packages: JsonSir, validators, python-easyconfig, cramjam, sphinxcontrib-jquery, fastparquet, sphinx-rtd-theme, JsonForm, discord.py, resource, pami\n",
            "Successfully installed JsonForm-0.0.2 JsonSir-0.0.2 cramjam-2.9.0 discord.py-2.4.0 fastparquet-2024.11.0 pami-2024.12.6.1 python-easyconfig-0.1.7 resource-0.2.1 sphinx-rtd-theme-3.0.2 sphinxcontrib-jquery-4.1 validators-0.34.0\n"
          ]
        }
      ]
    },
    {
      "cell_type": "markdown",
      "source": [
        "## Creating Synthetic Transactional Databases"
      ],
      "metadata": {
        "id": "8zOhEW2sBeM1"
      },
      "id": "8zOhEW2sBeM1"
    },
    {
      "cell_type": "markdown",
      "source": [
        "Generic\n",
        "\n",
        "```python\n",
        "from PAMI.extras.syntheticDataGenerator import TransactionalDatabase as db\n",
        "  \n",
        "obj = db.TransactionalDatabase(\n",
        "        databaseSize=numberOfTransactions,\n",
        "        avgItemsPerTransaction=averageNumberOfItemsInTransaction,\n",
        "        numItems=totalNumberOfItemsInADatabase,\n",
        "        sep='\\t' #default seperator\n",
        "        )\n",
        "obj.create() #creating the synthetic transactional database\n",
        "obj.save(outputFileName) #save the file\n",
        "transactionalDataFrame=obj.getTransactions() #reading the transactions into a dataframe\n",
        "\n",
        "#printing stats\n",
        "print('Runtime: ' + str(obj.getRuntime()))\n",
        "print('Memory (RSS): ' + str(obj.getMemoryRSS()))\n",
        "print('Memory (USS): ' + str(obj.getMemoryUSS()))\n",
        "```\n",
        "\n"
      ],
      "metadata": {
        "id": "tcPkA5njBqXy"
      },
      "id": "tcPkA5njBqXy"
    },
    {
      "cell_type": "markdown",
      "source": [
        "### Example 1"
      ],
      "metadata": {
        "id": "k1xnPqDUCNkt"
      },
      "id": "k1xnPqDUCNkt"
    },
    {
      "cell_type": "code",
      "execution_count": 2,
      "id": "initial_id",
      "metadata": {
        "collapsed": true,
        "colab": {
          "base_uri": "https://localhost:8080/"
        },
        "id": "initial_id",
        "outputId": "a9850bd1-d856-47d4-fc7c-27107149747f"
      },
      "outputs": [
        {
          "output_type": "stream",
          "name": "stdout",
          "text": [
            "Runtime: 14.764142990112305\n",
            "Memory (RSS): 209870848\n",
            "Memory (USS): 187125760\n"
          ]
        }
      ],
      "source": [
        "from PAMI.extras.syntheticDataGenerator import TransactionalDatabase as db\n",
        "\n",
        "obj = db.TransactionalDatabase(\n",
        "        databaseSize=100000,\n",
        "        avgItemsPerTransaction=10,\n",
        "        numItems=1000,\n",
        "        sep='\\t'\n",
        "        )\n",
        "obj.create()\n",
        "obj.save('transactionalDatabase.csv')\n",
        "#read the generated transactions into a dataframe\n",
        "transactionalDataFrame=obj.getTransactions()\n",
        "#stats\n",
        "print('Runtime: ' + str(obj.getRuntime()))\n",
        "print('Memory (RSS): ' + str(obj.getMemoryRSS()))\n",
        "print('Memory (USS): ' + str(obj.getMemoryUSS()))"
      ]
    },
    {
      "cell_type": "markdown",
      "source": [
        "## Deriving a Transactional Database from a DataFrame"
      ],
      "metadata": {
        "id": "nQ2A1cXwCgYz"
      },
      "id": "nQ2A1cXwCgYz"
    },
    {
      "cell_type": "markdown",
      "source": [
        "### Generic\n",
        "\n",
        "\n",
        "\n",
        "```python\n",
        "from PAMI.extras.convert import DF2DB as alg\n",
        "\n",
        "#converting the database into a transactional database by\n",
        "#considering values greater than or equal to 36\n",
        "obj = alg.DF2DB(dataFrame)\n",
        "obj.convert2TransactionalDatabase(oFile='outputFileName.csv',\n",
        "       condition='>=|>|==|!=|<=|<', thresholdValue=value\n",
        "     )\n",
        "print('Runtime: ' + str(obj.getRuntime()))\n",
        "print('Memory (RSS): ' + str(obj.getMemoryRSS()))\n",
        "print('Memory (USS): ' + str(obj.getMemoryUSS()))\n",
        "```\n",
        "\n"
      ],
      "metadata": {
        "id": "0iY2ZeIKCiO1"
      },
      "id": "0iY2ZeIKCiO1"
    },
    {
      "cell_type": "markdown",
      "source": [
        "### Example 2"
      ],
      "metadata": {
        "id": "AsEWUGacDIGD"
      },
      "id": "AsEWUGacDIGD"
    },
    {
      "cell_type": "code",
      "source": [
        "from PAMI.extras.convert import DF2DB as alg\n",
        "import pandas as pd\n",
        "import numpy as np\n",
        "\n",
        "#creating a 1000 x 4 dataframe with random values\n",
        "data = np.random.randint(1, 100, size=(1000, 4))\n",
        "dataFrame = pd.DataFrame(data,\n",
        "             columns=['Item1', 'Item2', 'Item3', 'Item4']\n",
        "            )\n",
        "#converting the database into a transactional database by\n",
        "#considering values greater than or equal to 36\n",
        "obj = alg.DF2DB(dataFrame)\n",
        "obj.convert2TransactionalDatabase(oFile='transactionalDB.csv',\n",
        "       condition='>=', thresholdValue=36\n",
        "     )\n",
        "print('Runtime: ' + str(obj.getRuntime()))\n",
        "print('Memory (RSS): ' + str(obj.getMemoryRSS()))\n",
        "print('Memory (USS): ' + str(obj.getMemoryUSS()))"
      ],
      "metadata": {
        "colab": {
          "base_uri": "https://localhost:8080/"
        },
        "id": "IoJFF28tChTC",
        "outputId": "29032f67-ec71-4e8b-d348-2fa6440b473f"
      },
      "id": "IoJFF28tChTC",
      "execution_count": 3,
      "outputs": [
        {
          "output_type": "stream",
          "name": "stdout",
          "text": [
            "Runtime: 0.02901935577392578\n",
            "Memory (RSS): 208867328\n",
            "Memory (USS): 186417152\n"
          ]
        }
      ]
    },
    {
      "cell_type": "markdown",
      "source": [
        "## Knowing the Statistical Details"
      ],
      "metadata": {
        "id": "8QoekW_ODd0V"
      },
      "id": "8QoekW_ODd0V"
    },
    {
      "cell_type": "markdown",
      "source": [
        "### Generic"
      ],
      "metadata": {
        "id": "LN1pATQ3Dfrd"
      },
      "id": "LN1pATQ3Dfrd"
    },
    {
      "cell_type": "markdown",
      "source": [
        "\n",
        "#### *Detailed version*\n",
        "```python\n",
        "from PAMI.extras.dbStats import TransactionalDatabase as stat\n",
        "\n",
        "obj = stat.TransactionalDatabase(\"transactionalDatabase.csv\")\n",
        "obj.run()\n",
        "print(f'Database size : {obj.getDatabaseSize()}')\n",
        "print(f'Total number of items : {obj.getTotalNumberOfItems()}')\n",
        "print(f'Database sparsity : {obj.getSparsity()}')\n",
        "print(f'Minimum Transaction Size : {obj.getMinimumTransactionLength()}')\n",
        "print(f'Average Transaction Size : {obj.getAverageTransactionLength()}')\n",
        "print(f'Maximum Transaction Size : {obj.getMaximumTransactionLength()}')\n",
        "print(f'Standard Deviation Transaction Size : {obj.getStandardDeviationTransactionLength()}')\n",
        "print(f'Variance in Transaction Sizes : {obj.getVarianceTransactionLength()')\n",
        "print(f'Database sparsity :{obj.getSparsity()}')\n",
        "```"
      ],
      "metadata": {
        "id": "3eDA4akoEkSA"
      },
      "id": "3eDA4akoEkSA"
    },
    {
      "cell_type": "markdown",
      "source": [
        "#### *Simplified version*\n",
        "\n",
        "```python\n",
        "from PAMI.extras.dbStats import TransactionalDatabase as stat\n",
        "\n",
        "obj = stat.TransactionalDatabase(\"transactionalDatabase.csv\")\n",
        "obj.run()\n",
        "obj.printStats()\n",
        "obj.plotGraphs()\n",
        "```"
      ],
      "metadata": {
        "id": "BB9GJh1MEnHW"
      },
      "id": "BB9GJh1MEnHW"
    },
    {
      "cell_type": "markdown",
      "source": [
        "### Example 3"
      ],
      "metadata": {
        "id": "UUQXRQXXEesl"
      },
      "id": "UUQXRQXXEesl"
    },
    {
      "cell_type": "code",
      "source": [
        "from PAMI.extras.dbStats import TransactionalDatabase as stat\n",
        "\n",
        "obj = stat.TransactionalDatabase(\"transactionalDatabase.csv\")\n",
        "obj.run()\n",
        "obj.printStats()\n",
        "obj.plotGraphs()"
      ],
      "metadata": {
        "colab": {
          "base_uri": "https://localhost:8080/",
          "height": 1000
        },
        "id": "BufYVBvZDe9-",
        "outputId": "cc935b52-3fb8-4519-adff-5db10470b21d"
      },
      "id": "BufYVBvZDe9-",
      "execution_count": 4,
      "outputs": [
        {
          "output_type": "stream",
          "name": "stdout",
          "text": [
            "Database size (total no of transactions) : 100000\n",
            "Number of items : 1000\n",
            "Minimum Transaction Size : 1\n",
            "Average Transaction Size : 10.02522\n",
            "Maximum Transaction Size : 20\n",
            "Standard Deviation Transaction Size : 5.72736448566005\n",
            "Variance in Transaction Sizes : 32.80303198191982\n",
            "Sparsity : 0.98997478\n"
          ]
        },
        {
          "output_type": "display_data",
          "data": {
            "text/plain": [
              "<Figure size 640x480 with 1 Axes>"
            ],
            "image/png": "[encoded data removed]"
          },
          "metadata": {}
        },
        {
          "output_type": "display_data",
          "data": {
            "text/plain": [
              "<Figure size 640x480 with 1 Axes>"
            ],
            "image/png": "[encoded data removed]"
          },
          "metadata": {}
        }
      ]
    }
  ],
  "metadata": {
    "kernelspec": {
      "display_name": "Python 3",
      "name": "python3"
    },
    "language_info": {
      "codemirror_mode": {
        "name": "ipython",
        "version": 2
      },
      "file_extension": ".py",
      "mimetype": "text/x-python",
      "name": "python",
      "nbconvert_exporter": "python",
      "pygments_lexer": "ipython2",
      "version": "2.7.6"
    },
    "colab": {
      "provenance": [],
      "gpuType": "T4",
      "include_colab_link": true
    },
    "accelerator": "GPU"
  },
  "nbformat": 4,
  "nbformat_minor": 5
}